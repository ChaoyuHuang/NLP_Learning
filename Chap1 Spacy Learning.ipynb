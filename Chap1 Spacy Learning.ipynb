{
 "cells": [
  {
   "cell_type": "markdown",
   "metadata": {},
   "source": [
    "## CREATED BY HCY 20200727\n",
    "## BACKGROUND 学习Spacy模块"
   ]
  },
  {
   "cell_type": "code",
   "execution_count": 1,
   "metadata": {
    "ExecuteTime": {
     "end_time": "2020-07-29T12:37:00.611758Z",
     "start_time": "2020-07-29T12:37:00.608765Z"
    }
   },
   "outputs": [],
   "source": [
    "# !pip install -U spacy\n",
    "# !pip install -U spacy-lookups-data\n",
    "# !python -m spacy download en_core_web_sm"
   ]
  },
  {
   "cell_type": "code",
   "execution_count": 2,
   "metadata": {
    "ExecuteTime": {
     "end_time": "2020-07-29T12:37:01.011700Z",
     "start_time": "2020-07-29T12:37:00.613752Z"
    }
   },
   "outputs": [],
   "source": [
    "import spacy"
   ]
  },
  {
   "cell_type": "code",
   "execution_count": 3,
   "metadata": {
    "ExecuteTime": {
     "end_time": "2020-07-29T12:37:02.293709Z",
     "start_time": "2020-07-29T12:37:01.012670Z"
    }
   },
   "outputs": [],
   "source": [
    "nlp = spacy.load('en_core_web_sm')"
   ]
  },
  {
   "cell_type": "code",
   "execution_count": 4,
   "metadata": {
    "ExecuteTime": {
     "end_time": "2020-07-29T12:37:02.306776Z",
     "start_time": "2020-07-29T12:37:02.294708Z"
    }
   },
   "outputs": [],
   "source": [
    "doc = nlp('Apple is looking at buying U.K. starup for $1 billion')"
   ]
  },
  {
   "cell_type": "code",
   "execution_count": 5,
   "metadata": {
    "ExecuteTime": {
     "end_time": "2020-07-29T12:37:02.313683Z",
     "start_time": "2020-07-29T12:37:02.307673Z"
    }
   },
   "outputs": [
    {
     "name": "stdout",
     "output_type": "stream",
     "text": [
      "Apple\n",
      "is\n",
      "looking\n",
      "at\n",
      "buying\n",
      "U.K.\n",
      "starup\n",
      "for\n",
      "$\n",
      "1\n",
      "billion\n"
     ]
    }
   ],
   "source": [
    "for token in doc:\n",
    "    print(token.text)"
   ]
  },
  {
   "cell_type": "code",
   "execution_count": 6,
   "metadata": {
    "ExecuteTime": {
     "end_time": "2020-07-29T12:37:02.329658Z",
     "start_time": "2020-07-29T12:37:02.315654Z"
    }
   },
   "outputs": [],
   "source": [
    "doc = nlp(\"Apple isn't looking at buying U.K. starup for $1 billion\")"
   ]
  },
  {
   "cell_type": "code",
   "execution_count": 7,
   "metadata": {
    "ExecuteTime": {
     "end_time": "2020-07-29T12:37:02.335602Z",
     "start_time": "2020-07-29T12:37:02.331614Z"
    }
   },
   "outputs": [
    {
     "name": "stdout",
     "output_type": "stream",
     "text": [
      "Apple\n",
      "is\n",
      "n't\n",
      "looking\n",
      "at\n",
      "buying\n",
      "U.K.\n",
      "starup\n",
      "for\n",
      "$\n",
      "1\n",
      "billion\n"
     ]
    }
   ],
   "source": [
    "for token in doc:\n",
    "    print(token.text)"
   ]
  },
  {
   "cell_type": "markdown",
   "metadata": {},
   "source": [
    "## Part-of_Speech[POS] Tagging"
   ]
  },
  {
   "cell_type": "code",
   "execution_count": 8,
   "metadata": {
    "ExecuteTime": {
     "end_time": "2020-07-29T12:37:02.348564Z",
     "start_time": "2020-07-29T12:37:02.336598Z"
    }
   },
   "outputs": [
    {
     "data": {
      "text/plain": [
       "Apple isn't looking at buying U.K. starup for $1 billion"
      ]
     },
     "execution_count": 8,
     "metadata": {},
     "output_type": "execute_result"
    }
   ],
   "source": [
    "doc"
   ]
  },
  {
   "cell_type": "code",
   "execution_count": 9,
   "metadata": {
    "ExecuteTime": {
     "end_time": "2020-07-29T12:37:02.357565Z",
     "start_time": "2020-07-29T12:37:02.349564Z"
    }
   },
   "outputs": [
    {
     "name": "stdout",
     "output_type": "stream",
     "text": [
      "Apple Apple\n",
      "is be\n",
      "n't not\n",
      "looking look\n",
      "at at\n",
      "buying buy\n",
      "U.K. U.K.\n",
      "starup starup\n",
      "for for\n",
      "$ $\n",
      "1 1\n",
      "billion billion\n"
     ]
    }
   ],
   "source": [
    "for token in doc:\n",
    "    print(token.text, token.lemma_)"
   ]
  },
  {
   "cell_type": "code",
   "execution_count": 10,
   "metadata": {
    "ExecuteTime": {
     "end_time": "2020-07-29T12:37:02.365544Z",
     "start_time": "2020-07-29T12:37:02.358538Z"
    }
   },
   "outputs": [
    {
     "name": "stdout",
     "output_type": "stream",
     "text": [
      "Apple           Apple      PROPN     \n",
      "is              be         AUX       \n",
      "n't             not        PART      \n",
      "looking         look       VERB      \n",
      "at              at         ADP       \n",
      "buying          buy        VERB      \n",
      "U.K.            U.K.       PROPN     \n",
      "starup          starup     NOUN      \n",
      "for             for        ADP       \n",
      "$               $          SYM       \n",
      "1               1          NUM       \n",
      "billion         billion    NUM       \n"
     ]
    }
   ],
   "source": [
    "for token in doc:\n",
    "    print(f'{token.text:{15}} {token.lemma_:{10}} {token.pos_:{10}}')"
   ]
  },
  {
   "cell_type": "code",
   "execution_count": 11,
   "metadata": {
    "ExecuteTime": {
     "end_time": "2020-07-29T12:37:02.374522Z",
     "start_time": "2020-07-29T12:37:02.366516Z"
    }
   },
   "outputs": [
    {
     "name": "stdout",
     "output_type": "stream",
     "text": [
      "Apple           Apple      PROPN      NNP             nsubj      Xxxxx               1          0\n",
      "is              be         AUX        VBZ             aux        xx                  1          1\n",
      "n't             not        PART       RB              neg        x'x                 0          1\n",
      "looking         look       VERB       VBG             ROOT       xxxx                1          0\n",
      "at              at         ADP        IN              prep       xx                  1          1\n",
      "buying          buy        VERB       VBG             pcomp      xxxx                1          0\n",
      "U.K.            U.K.       PROPN      NNP             compound   X.X.                0          0\n",
      "starup          starup     NOUN       NN              dobj       xxxx                1          0\n",
      "for             for        ADP        IN              prep       xxx                 1          1\n",
      "$               $          SYM        $               quantmod   $                   0          0\n",
      "1               1          NUM        CD              compound   d                   0          0\n",
      "billion         billion    NUM        CD              pobj       xxxx                1          0\n"
     ]
    }
   ],
   "source": [
    "for token in doc:\n",
    "    print(f'{token.text:{15}} {token.lemma_:{10}} {token.pos_:{10}} {token.tag_:{15}} {token.dep_:{10}} {token.shape_:{10}} {token.is_alpha:{10}} {token.is_stop:{10}}')"
   ]
  },
  {
   "cell_type": "code",
   "execution_count": 12,
   "metadata": {
    "ExecuteTime": {
     "end_time": "2020-07-29T12:37:02.386474Z",
     "start_time": "2020-07-29T12:37:02.375492Z"
    }
   },
   "outputs": [
    {
     "data": {
      "text/html": [
       "<span class=\"tex2jax_ignore\"><svg xmlns=\"http://www.w3.org/2000/svg\" xmlns:xlink=\"http://www.w3.org/1999/xlink\" xml:lang=\"en\" id=\"ec590fcf0dc94355bb5e22cb694278f6-0\" class=\"displacy\" width=\"2150\" height=\"399.5\" direction=\"ltr\" style=\"max-width: none; height: 399.5px; color: #000000; background: #ffffff; font-family: Arial; direction: ltr\">\n",
       "<text class=\"displacy-token\" fill=\"currentColor\" text-anchor=\"middle\" y=\"309.5\">\n",
       "    <tspan class=\"displacy-word\" fill=\"currentColor\" x=\"50\">Apple</tspan>\n",
       "    <tspan class=\"displacy-tag\" dy=\"2em\" fill=\"currentColor\" x=\"50\">PROPN</tspan>\n",
       "</text>\n",
       "\n",
       "<text class=\"displacy-token\" fill=\"currentColor\" text-anchor=\"middle\" y=\"309.5\">\n",
       "    <tspan class=\"displacy-word\" fill=\"currentColor\" x=\"225\">is</tspan>\n",
       "    <tspan class=\"displacy-tag\" dy=\"2em\" fill=\"currentColor\" x=\"225\">AUX</tspan>\n",
       "</text>\n",
       "\n",
       "<text class=\"displacy-token\" fill=\"currentColor\" text-anchor=\"middle\" y=\"309.5\">\n",
       "    <tspan class=\"displacy-word\" fill=\"currentColor\" x=\"400\">n't</tspan>\n",
       "    <tspan class=\"displacy-tag\" dy=\"2em\" fill=\"currentColor\" x=\"400\">PART</tspan>\n",
       "</text>\n",
       "\n",
       "<text class=\"displacy-token\" fill=\"currentColor\" text-anchor=\"middle\" y=\"309.5\">\n",
       "    <tspan class=\"displacy-word\" fill=\"currentColor\" x=\"575\">looking</tspan>\n",
       "    <tspan class=\"displacy-tag\" dy=\"2em\" fill=\"currentColor\" x=\"575\">VERB</tspan>\n",
       "</text>\n",
       "\n",
       "<text class=\"displacy-token\" fill=\"currentColor\" text-anchor=\"middle\" y=\"309.5\">\n",
       "    <tspan class=\"displacy-word\" fill=\"currentColor\" x=\"750\">at</tspan>\n",
       "    <tspan class=\"displacy-tag\" dy=\"2em\" fill=\"currentColor\" x=\"750\">ADP</tspan>\n",
       "</text>\n",
       "\n",
       "<text class=\"displacy-token\" fill=\"currentColor\" text-anchor=\"middle\" y=\"309.5\">\n",
       "    <tspan class=\"displacy-word\" fill=\"currentColor\" x=\"925\">buying</tspan>\n",
       "    <tspan class=\"displacy-tag\" dy=\"2em\" fill=\"currentColor\" x=\"925\">VERB</tspan>\n",
       "</text>\n",
       "\n",
       "<text class=\"displacy-token\" fill=\"currentColor\" text-anchor=\"middle\" y=\"309.5\">\n",
       "    <tspan class=\"displacy-word\" fill=\"currentColor\" x=\"1100\">U.K.</tspan>\n",
       "    <tspan class=\"displacy-tag\" dy=\"2em\" fill=\"currentColor\" x=\"1100\">PROPN</tspan>\n",
       "</text>\n",
       "\n",
       "<text class=\"displacy-token\" fill=\"currentColor\" text-anchor=\"middle\" y=\"309.5\">\n",
       "    <tspan class=\"displacy-word\" fill=\"currentColor\" x=\"1275\">starup</tspan>\n",
       "    <tspan class=\"displacy-tag\" dy=\"2em\" fill=\"currentColor\" x=\"1275\">NOUN</tspan>\n",
       "</text>\n",
       "\n",
       "<text class=\"displacy-token\" fill=\"currentColor\" text-anchor=\"middle\" y=\"309.5\">\n",
       "    <tspan class=\"displacy-word\" fill=\"currentColor\" x=\"1450\">for</tspan>\n",
       "    <tspan class=\"displacy-tag\" dy=\"2em\" fill=\"currentColor\" x=\"1450\">ADP</tspan>\n",
       "</text>\n",
       "\n",
       "<text class=\"displacy-token\" fill=\"currentColor\" text-anchor=\"middle\" y=\"309.5\">\n",
       "    <tspan class=\"displacy-word\" fill=\"currentColor\" x=\"1625\">$</tspan>\n",
       "    <tspan class=\"displacy-tag\" dy=\"2em\" fill=\"currentColor\" x=\"1625\">SYM</tspan>\n",
       "</text>\n",
       "\n",
       "<text class=\"displacy-token\" fill=\"currentColor\" text-anchor=\"middle\" y=\"309.5\">\n",
       "    <tspan class=\"displacy-word\" fill=\"currentColor\" x=\"1800\">1</tspan>\n",
       "    <tspan class=\"displacy-tag\" dy=\"2em\" fill=\"currentColor\" x=\"1800\">NUM</tspan>\n",
       "</text>\n",
       "\n",
       "<text class=\"displacy-token\" fill=\"currentColor\" text-anchor=\"middle\" y=\"309.5\">\n",
       "    <tspan class=\"displacy-word\" fill=\"currentColor\" x=\"1975\">billion</tspan>\n",
       "    <tspan class=\"displacy-tag\" dy=\"2em\" fill=\"currentColor\" x=\"1975\">NUM</tspan>\n",
       "</text>\n",
       "\n",
       "<g class=\"displacy-arrow\">\n",
       "    <path class=\"displacy-arc\" id=\"arrow-ec590fcf0dc94355bb5e22cb694278f6-0-0\" stroke-width=\"2px\" d=\"M70,264.5 C70,2.0 575.0,2.0 575.0,264.5\" fill=\"none\" stroke=\"currentColor\"/>\n",
       "    <text dy=\"1.25em\" style=\"font-size: 0.8em; letter-spacing: 1px\">\n",
       "        <textPath xlink:href=\"#arrow-ec590fcf0dc94355bb5e22cb694278f6-0-0\" class=\"displacy-label\" startOffset=\"50%\" side=\"left\" fill=\"currentColor\" text-anchor=\"middle\">nsubj</textPath>\n",
       "    </text>\n",
       "    <path class=\"displacy-arrowhead\" d=\"M70,266.5 L62,254.5 78,254.5\" fill=\"currentColor\"/>\n",
       "</g>\n",
       "\n",
       "<g class=\"displacy-arrow\">\n",
       "    <path class=\"displacy-arc\" id=\"arrow-ec590fcf0dc94355bb5e22cb694278f6-0-1\" stroke-width=\"2px\" d=\"M245,264.5 C245,89.5 570.0,89.5 570.0,264.5\" fill=\"none\" stroke=\"currentColor\"/>\n",
       "    <text dy=\"1.25em\" style=\"font-size: 0.8em; letter-spacing: 1px\">\n",
       "        <textPath xlink:href=\"#arrow-ec590fcf0dc94355bb5e22cb694278f6-0-1\" class=\"displacy-label\" startOffset=\"50%\" side=\"left\" fill=\"currentColor\" text-anchor=\"middle\">aux</textPath>\n",
       "    </text>\n",
       "    <path class=\"displacy-arrowhead\" d=\"M245,266.5 L237,254.5 253,254.5\" fill=\"currentColor\"/>\n",
       "</g>\n",
       "\n",
       "<g class=\"displacy-arrow\">\n",
       "    <path class=\"displacy-arc\" id=\"arrow-ec590fcf0dc94355bb5e22cb694278f6-0-2\" stroke-width=\"2px\" d=\"M420,264.5 C420,177.0 565.0,177.0 565.0,264.5\" fill=\"none\" stroke=\"currentColor\"/>\n",
       "    <text dy=\"1.25em\" style=\"font-size: 0.8em; letter-spacing: 1px\">\n",
       "        <textPath xlink:href=\"#arrow-ec590fcf0dc94355bb5e22cb694278f6-0-2\" class=\"displacy-label\" startOffset=\"50%\" side=\"left\" fill=\"currentColor\" text-anchor=\"middle\">neg</textPath>\n",
       "    </text>\n",
       "    <path class=\"displacy-arrowhead\" d=\"M420,266.5 L412,254.5 428,254.5\" fill=\"currentColor\"/>\n",
       "</g>\n",
       "\n",
       "<g class=\"displacy-arrow\">\n",
       "    <path class=\"displacy-arc\" id=\"arrow-ec590fcf0dc94355bb5e22cb694278f6-0-3\" stroke-width=\"2px\" d=\"M595,264.5 C595,177.0 740.0,177.0 740.0,264.5\" fill=\"none\" stroke=\"currentColor\"/>\n",
       "    <text dy=\"1.25em\" style=\"font-size: 0.8em; letter-spacing: 1px\">\n",
       "        <textPath xlink:href=\"#arrow-ec590fcf0dc94355bb5e22cb694278f6-0-3\" class=\"displacy-label\" startOffset=\"50%\" side=\"left\" fill=\"currentColor\" text-anchor=\"middle\">prep</textPath>\n",
       "    </text>\n",
       "    <path class=\"displacy-arrowhead\" d=\"M740.0,266.5 L748.0,254.5 732.0,254.5\" fill=\"currentColor\"/>\n",
       "</g>\n",
       "\n",
       "<g class=\"displacy-arrow\">\n",
       "    <path class=\"displacy-arc\" id=\"arrow-ec590fcf0dc94355bb5e22cb694278f6-0-4\" stroke-width=\"2px\" d=\"M770,264.5 C770,177.0 915.0,177.0 915.0,264.5\" fill=\"none\" stroke=\"currentColor\"/>\n",
       "    <text dy=\"1.25em\" style=\"font-size: 0.8em; letter-spacing: 1px\">\n",
       "        <textPath xlink:href=\"#arrow-ec590fcf0dc94355bb5e22cb694278f6-0-4\" class=\"displacy-label\" startOffset=\"50%\" side=\"left\" fill=\"currentColor\" text-anchor=\"middle\">pcomp</textPath>\n",
       "    </text>\n",
       "    <path class=\"displacy-arrowhead\" d=\"M915.0,266.5 L923.0,254.5 907.0,254.5\" fill=\"currentColor\"/>\n",
       "</g>\n",
       "\n",
       "<g class=\"displacy-arrow\">\n",
       "    <path class=\"displacy-arc\" id=\"arrow-ec590fcf0dc94355bb5e22cb694278f6-0-5\" stroke-width=\"2px\" d=\"M1120,264.5 C1120,177.0 1265.0,177.0 1265.0,264.5\" fill=\"none\" stroke=\"currentColor\"/>\n",
       "    <text dy=\"1.25em\" style=\"font-size: 0.8em; letter-spacing: 1px\">\n",
       "        <textPath xlink:href=\"#arrow-ec590fcf0dc94355bb5e22cb694278f6-0-5\" class=\"displacy-label\" startOffset=\"50%\" side=\"left\" fill=\"currentColor\" text-anchor=\"middle\">compound</textPath>\n",
       "    </text>\n",
       "    <path class=\"displacy-arrowhead\" d=\"M1120,266.5 L1112,254.5 1128,254.5\" fill=\"currentColor\"/>\n",
       "</g>\n",
       "\n",
       "<g class=\"displacy-arrow\">\n",
       "    <path class=\"displacy-arc\" id=\"arrow-ec590fcf0dc94355bb5e22cb694278f6-0-6\" stroke-width=\"2px\" d=\"M945,264.5 C945,89.5 1270.0,89.5 1270.0,264.5\" fill=\"none\" stroke=\"currentColor\"/>\n",
       "    <text dy=\"1.25em\" style=\"font-size: 0.8em; letter-spacing: 1px\">\n",
       "        <textPath xlink:href=\"#arrow-ec590fcf0dc94355bb5e22cb694278f6-0-6\" class=\"displacy-label\" startOffset=\"50%\" side=\"left\" fill=\"currentColor\" text-anchor=\"middle\">dobj</textPath>\n",
       "    </text>\n",
       "    <path class=\"displacy-arrowhead\" d=\"M1270.0,266.5 L1278.0,254.5 1262.0,254.5\" fill=\"currentColor\"/>\n",
       "</g>\n",
       "\n",
       "<g class=\"displacy-arrow\">\n",
       "    <path class=\"displacy-arc\" id=\"arrow-ec590fcf0dc94355bb5e22cb694278f6-0-7\" stroke-width=\"2px\" d=\"M945,264.5 C945,2.0 1450.0,2.0 1450.0,264.5\" fill=\"none\" stroke=\"currentColor\"/>\n",
       "    <text dy=\"1.25em\" style=\"font-size: 0.8em; letter-spacing: 1px\">\n",
       "        <textPath xlink:href=\"#arrow-ec590fcf0dc94355bb5e22cb694278f6-0-7\" class=\"displacy-label\" startOffset=\"50%\" side=\"left\" fill=\"currentColor\" text-anchor=\"middle\">prep</textPath>\n",
       "    </text>\n",
       "    <path class=\"displacy-arrowhead\" d=\"M1450.0,266.5 L1458.0,254.5 1442.0,254.5\" fill=\"currentColor\"/>\n",
       "</g>\n",
       "\n",
       "<g class=\"displacy-arrow\">\n",
       "    <path class=\"displacy-arc\" id=\"arrow-ec590fcf0dc94355bb5e22cb694278f6-0-8\" stroke-width=\"2px\" d=\"M1645,264.5 C1645,89.5 1970.0,89.5 1970.0,264.5\" fill=\"none\" stroke=\"currentColor\"/>\n",
       "    <text dy=\"1.25em\" style=\"font-size: 0.8em; letter-spacing: 1px\">\n",
       "        <textPath xlink:href=\"#arrow-ec590fcf0dc94355bb5e22cb694278f6-0-8\" class=\"displacy-label\" startOffset=\"50%\" side=\"left\" fill=\"currentColor\" text-anchor=\"middle\">quantmod</textPath>\n",
       "    </text>\n",
       "    <path class=\"displacy-arrowhead\" d=\"M1645,266.5 L1637,254.5 1653,254.5\" fill=\"currentColor\"/>\n",
       "</g>\n",
       "\n",
       "<g class=\"displacy-arrow\">\n",
       "    <path class=\"displacy-arc\" id=\"arrow-ec590fcf0dc94355bb5e22cb694278f6-0-9\" stroke-width=\"2px\" d=\"M1820,264.5 C1820,177.0 1965.0,177.0 1965.0,264.5\" fill=\"none\" stroke=\"currentColor\"/>\n",
       "    <text dy=\"1.25em\" style=\"font-size: 0.8em; letter-spacing: 1px\">\n",
       "        <textPath xlink:href=\"#arrow-ec590fcf0dc94355bb5e22cb694278f6-0-9\" class=\"displacy-label\" startOffset=\"50%\" side=\"left\" fill=\"currentColor\" text-anchor=\"middle\">compound</textPath>\n",
       "    </text>\n",
       "    <path class=\"displacy-arrowhead\" d=\"M1820,266.5 L1812,254.5 1828,254.5\" fill=\"currentColor\"/>\n",
       "</g>\n",
       "\n",
       "<g class=\"displacy-arrow\">\n",
       "    <path class=\"displacy-arc\" id=\"arrow-ec590fcf0dc94355bb5e22cb694278f6-0-10\" stroke-width=\"2px\" d=\"M1470,264.5 C1470,2.0 1975.0,2.0 1975.0,264.5\" fill=\"none\" stroke=\"currentColor\"/>\n",
       "    <text dy=\"1.25em\" style=\"font-size: 0.8em; letter-spacing: 1px\">\n",
       "        <textPath xlink:href=\"#arrow-ec590fcf0dc94355bb5e22cb694278f6-0-10\" class=\"displacy-label\" startOffset=\"50%\" side=\"left\" fill=\"currentColor\" text-anchor=\"middle\">pobj</textPath>\n",
       "    </text>\n",
       "    <path class=\"displacy-arrowhead\" d=\"M1975.0,266.5 L1983.0,254.5 1967.0,254.5\" fill=\"currentColor\"/>\n",
       "</g>\n",
       "</svg></span>"
      ],
      "text/plain": [
       "<IPython.core.display.HTML object>"
      ]
     },
     "metadata": {},
     "output_type": "display_data"
    }
   ],
   "source": [
    "from spacy import displacy\n",
    "displacy.render(doc, style=\"dep\")"
   ]
  },
  {
   "cell_type": "code",
   "execution_count": 13,
   "metadata": {
    "ExecuteTime": {
     "end_time": "2020-07-29T12:37:06.025137Z",
     "start_time": "2020-07-29T12:37:02.387461Z"
    },
    "scrolled": true
   },
   "outputs": [
    {
     "name": "stdout",
     "output_type": "stream",
     "text": [
      "dog dog 1.0\n",
      "dog cat 0.80168545\n",
      "dog banana 0.24327643\n",
      "cat dog 0.80168545\n",
      "cat cat 1.0\n",
      "cat banana 0.28154364\n",
      "banana dog 0.24327643\n",
      "banana cat 0.28154364\n",
      "banana banana 1.0\n"
     ]
    }
   ],
   "source": [
    "import spacy\n",
    "nlp = spacy.load('en_core_web_lg')  # make sure to use larger model!\n",
    "tokens = nlp(\"dog cat banana\")\n",
    "\n",
    "for token1 in tokens:\n",
    "    for token2 in tokens:\n",
    "        print(token1.text, token2.text, token1.similarity(token2))"
   ]
  },
  {
   "cell_type": "code",
   "execution_count": 14,
   "metadata": {
    "ExecuteTime": {
     "end_time": "2020-07-29T12:37:06.031103Z",
     "start_time": "2020-07-29T12:37:06.026105Z"
    }
   },
   "outputs": [
    {
     "name": "stdout",
     "output_type": "stream",
     "text": [
      "7562983679033046312 \t 0 \t 0 \t dog \t dog \t NOUN \t NN\n",
      "5439657043933447811 \t 1 \t 0 \t cat \t cat \t NOUN \t NN\n",
      "2525716904149915114 \t 2 \t 0 \t banana \t banana \t PROPN \t NNP\n"
     ]
    }
   ],
   "source": [
    "for token in tokens:\n",
    "    print(token.orth, \"\\t\", token.i, \"\\t\", token.ent_type, \"\\t\", token.lemma_, \"\\t\", token.norm_, \"\\t\", token.pos_, \"\\t\", token.tag_)"
   ]
  },
  {
   "cell_type": "markdown",
   "metadata": {},
   "source": [
    "##  Vocab 类"
   ]
  },
  {
   "cell_type": "code",
   "execution_count": 41,
   "metadata": {
    "ExecuteTime": {
     "end_time": "2020-07-29T12:38:22.302230Z",
     "start_time": "2020-07-29T12:38:21.741723Z"
    }
   },
   "outputs": [],
   "source": [
    "import spacy\n",
    "nlp = spacy.load(\"en_core_web_sm\")"
   ]
  },
  {
   "cell_type": "code",
   "execution_count": 46,
   "metadata": {
    "ExecuteTime": {
     "end_time": "2020-07-29T12:39:27.408872Z",
     "start_time": "2020-07-29T12:39:27.405880Z"
    }
   },
   "outputs": [],
   "source": [
    "## apple是一个Lexeme对象，vocab还包含一个strings属性，用于表示把单词映射到64位的哈希值，这使得每一个单词在spaCy中只存储一份。\n",
    "apple = nlp.vocab[u'apple']"
   ]
  },
  {
   "cell_type": "markdown",
   "metadata": {},
   "source": [
    "### 1，Lexeme类型"
   ]
  },
  {
   "cell_type": "code",
   "execution_count": 50,
   "metadata": {
    "ExecuteTime": {
     "end_time": "2020-07-29T12:41:30.491401Z",
     "start_time": "2020-07-29T12:41:26.961809Z"
    }
   },
   "outputs": [],
   "source": [
    "# Lexeme对象是词汇表Vocab中的一个词条（entry），可以通过该similarity()函数计算两个词条的相似性：\n",
    "import spacy\n",
    "nlp = spacy.load(\"en_core_web_lg\")\n",
    "\n",
    "\n",
    "apple = nlp.vocab[u\"apple\"]\n",
    "orange = nlp.vocab[u\"orange\"]\n",
    "apple_oranges = apple.similarity(orange)"
   ]
  },
  {
   "cell_type": "markdown",
   "metadata": {
    "ExecuteTime": {
     "end_time": "2020-07-29T12:42:24.052581Z",
     "start_time": "2020-07-29T12:42:24.047567Z"
    }
   },
   "source": [
    "#### Lexeme对象的属性，通常属性是成对存在的，不带下划线的是属性的ID形式，带下划线的是属性的文本形式：\n",
    "\n",
    "* text：文本内容（Verbatim text content）\n",
    "* orth、orth_：文本ID和文本内容\n",
    "* lower、lower_：文本的小写\n",
    "* is_alpha、is_ascii、is_digit、is_lower、is_upper、is_title、is_punct、is_space：指示文本的类型，返回值是boolean类型\n",
    "* like_url、like_num、like_email：指示文本是否是url、数字和email，返回值是boolean类型\n",
    "* sentiment：标量值，用于指示词汇的积极性\n",
    "* cluster：布朗Cluster ID"
   ]
  },
  {
   "cell_type": "markdown",
   "metadata": {},
   "source": [
    "### 2，StringStore类型\n",
    "* StringStore类是一个string-to-int的对象，通过64位的哈希值来查找词汇，或者把词汇映射到64位的哈希值："
   ]
  },
  {
   "cell_type": "code",
   "execution_count": 53,
   "metadata": {
    "ExecuteTime": {
     "end_time": "2020-07-29T12:43:35.335416Z",
     "start_time": "2020-07-29T12:43:35.331414Z"
    }
   },
   "outputs": [
    {
     "data": {
      "text/plain": [
       "8566208034543834098"
      ]
     },
     "execution_count": 53,
     "metadata": {},
     "output_type": "execute_result"
    }
   ],
   "source": [
    "from spacy.strings import StringStore\n",
    "stringstore = StringStore([\"apple\", \"orange\"])\n",
    "apple_hash = stringstore[\"apple\"]\n",
    "apple_hash"
   ]
  },
  {
   "cell_type": "markdown",
   "metadata": {},
   "source": [
    "* Vocab的strings属性是一个StringStore对象，用于存储共享的词汇数据："
   ]
  },
  {
   "cell_type": "code",
   "execution_count": 55,
   "metadata": {
    "ExecuteTime": {
     "end_time": "2020-07-29T12:44:47.967952Z",
     "start_time": "2020-07-29T12:44:47.963986Z"
    }
   },
   "outputs": [
    {
     "name": "stdout",
     "output_type": "stream",
     "text": [
      "8566208034543834098\n",
      "apple\n"
     ]
    }
   ],
   "source": [
    "apple_id = nlp.vocab.strings['apple']\n",
    "print(apple_id)\n",
    "apple_text = nlp.vocab.strings[8566208034543834098]\n",
    "print(apple_text)"
   ]
  },
  {
   "cell_type": "markdown",
   "metadata": {},
   "source": [
    "### 3，Vocab类\n",
    "* 在初始化Vocab类时，传递参数strings是list或者StringStore对象，得到Vocab对象："
   ]
  },
  {
   "cell_type": "code",
   "execution_count": 56,
   "metadata": {
    "ExecuteTime": {
     "end_time": "2020-07-29T12:46:11.179267Z",
     "start_time": "2020-07-29T12:46:11.174276Z"
    }
   },
   "outputs": [
    {
     "data": {
      "text/plain": [
       "8566208034543834098"
      ]
     },
     "execution_count": 56,
     "metadata": {},
     "output_type": "execute_result"
    }
   ],
   "source": [
    "from spacy.vocab import Vocab\n",
    "vocab = Vocab(strings=[\"apple\", \"orange\"])\n",
    "vocab.strings[u\"apple\"]"
   ]
  },
  {
   "cell_type": "markdown",
   "metadata": {},
   "source": [
    "## 二，Token类\n",
    "* Token是一个单词、标点符号、空格等，在自然语言处理中，把一个单词，一个标点符号，一个空格等叫做一个token"
   ]
  },
  {
   "cell_type": "code",
   "execution_count": 58,
   "metadata": {
    "ExecuteTime": {
     "end_time": "2020-07-29T12:47:23.715127Z",
     "start_time": "2020-07-29T12:47:20.250352Z"
    }
   },
   "outputs": [
    {
     "name": "stdout",
     "output_type": "stream",
     "text": [
      "apples oranges\n"
     ]
    }
   ],
   "source": [
    "import spacy\n",
    "nlp = spacy.load(\"en_core_web_lg\")\n",
    "doc = nlp(\"I like apples and oranges\")\n",
    "token_apple = doc[2]\n",
    "token_orange = doc[4]\n",
    "print(token_apple, token_orange)"
   ]
  },
  {
   "cell_type": "markdown",
   "metadata": {},
   "source": [
    "### 1，Token对象的函数"
   ]
  },
  {
   "cell_type": "code",
   "execution_count": 59,
   "metadata": {
    "ExecuteTime": {
     "end_time": "2020-07-29T12:47:24.356899Z",
     "start_time": "2020-07-29T12:47:24.351908Z"
    }
   },
   "outputs": [
    {
     "data": {
      "text/plain": [
       "0.77809423"
      ]
     },
     "execution_count": 59,
     "metadata": {},
     "output_type": "execute_result"
    }
   ],
   "source": [
    "#### 计算不同token之间的语义相似性\n",
    "token_apple.similarity(token_orange)"
   ]
  },
  {
   "cell_type": "code",
   "execution_count": 62,
   "metadata": {
    "ExecuteTime": {
     "end_time": "2020-07-29T12:48:10.006984Z",
     "start_time": "2020-07-29T12:48:10.002992Z"
    }
   },
   "outputs": [
    {
     "name": "stdout",
     "output_type": "stream",
     "text": [
      "and\n"
     ]
    }
   ],
   "source": [
    "#### 对一段文本，获得相邻的token，默认情况下，得到的是下一个相邻的token\n",
    "print(token_apple.nbor())"
   ]
  },
  {
   "cell_type": "code",
   "execution_count": 63,
   "metadata": {
    "ExecuteTime": {
     "end_time": "2020-07-29T12:48:50.229659Z",
     "start_time": "2020-07-29T12:48:50.226671Z"
    }
   },
   "outputs": [
    {
     "name": "stdout",
     "output_type": "stream",
     "text": [
      "(oranges,)\n"
     ]
    }
   ],
   "source": [
    "### 从一段文本种，获得相连的token\n",
    "print(token_apple.conjuncts)"
   ]
  },
  {
   "cell_type": "markdown",
   "metadata": {
    "ExecuteTime": {
     "end_time": "2020-07-29T12:49:15.043617Z",
     "start_time": "2020-07-29T12:49:15.037637Z"
    }
   },
   "source": [
    "### 2，Token对象的属性\n",
    "\n",
    "Token对象，除了具有Lexeme对象属性之外，还具有Token对象特有的属性：\n",
    "\n",
    "* doc：父doc\n",
    "* sent：token所在的Span对象\n",
    "* text：文本\n",
    "* orth、orth_：文本ID和文本\n",
    "* i：token在父doc中的索引\n",
    "* ent_type、ent_type_：命名实体类型\n",
    "* lemma、lemma_：token的基本形式（base form）\n",
    "* norm、norm_：token的标准化形式\n",
    "* pos、pos_：token的词性（Coarse-grained POS）\n",
    "* tag、tag_：token的词性（Fine-grained POS）\n",
    "* lower、lower_：token的小写形式\n",
    "* is_alpha、is_ascii、is_digit、is_lower、is_upper、is_title、is_punct、is_space\n",
    "* like_url、like_num、like_email\n",
    "* sentiment"
   ]
  },
  {
   "cell_type": "code",
   "execution_count": 65,
   "metadata": {
    "ExecuteTime": {
     "end_time": "2020-07-29T12:49:28.001664Z",
     "start_time": "2020-07-29T12:49:27.997698Z"
    }
   },
   "outputs": [
    {
     "name": "stdout",
     "output_type": "stream",
     "text": [
      "I like apples and oranges\n"
     ]
    }
   ],
   "source": [
    "print(token_apple.doc)"
   ]
  },
  {
   "cell_type": "code",
   "execution_count": 66,
   "metadata": {
    "ExecuteTime": {
     "end_time": "2020-07-29T12:49:43.361952Z",
     "start_time": "2020-07-29T12:49:43.356965Z"
    }
   },
   "outputs": [
    {
     "name": "stdout",
     "output_type": "stream",
     "text": [
      "['I', 'like', 'apples', 'and', 'oranges']\n"
     ]
    }
   ],
   "source": [
    "print([token.text for token in doc])"
   ]
  },
  {
   "cell_type": "code",
   "execution_count": 70,
   "metadata": {
    "ExecuteTime": {
     "end_time": "2020-07-29T12:50:32.292664Z",
     "start_time": "2020-07-29T12:50:32.287649Z"
    }
   },
   "outputs": [
    {
     "data": {
      "text/plain": [
       "I like apples and oranges"
      ]
     },
     "execution_count": 70,
     "metadata": {},
     "output_type": "execute_result"
    }
   ],
   "source": [
    "span_apple = token_apple.sent\n",
    "span_apple"
   ]
  },
  {
   "cell_type": "code",
   "execution_count": 71,
   "metadata": {
    "ExecuteTime": {
     "end_time": "2020-07-29T12:50:57.953722Z",
     "start_time": "2020-07-29T12:50:57.949733Z"
    }
   },
   "outputs": [
    {
     "name": "stdout",
     "output_type": "stream",
     "text": [
      "14374618037326464786 apples\n"
     ]
    }
   ],
   "source": [
    "print(token_apple.orth, token_apple.orth_)"
   ]
  },
  {
   "cell_type": "code",
   "execution_count": 85,
   "metadata": {
    "ExecuteTime": {
     "end_time": "2020-07-29T12:54:56.770352Z",
     "start_time": "2020-07-29T12:54:56.765338Z"
    }
   },
   "outputs": [
    {
     "name": "stdout",
     "output_type": "stream",
     "text": [
      "2\n",
      "0 3 0 13\n"
     ]
    }
   ],
   "source": [
    "print(token_apple.i)\n",
    "span = spacy.tokens.Span(doc, 0, 3)\n",
    "print(span.start, span.end, span.start_char, span.end_char)"
   ]
  },
  {
   "cell_type": "code",
   "execution_count": 87,
   "metadata": {
    "ExecuteTime": {
     "end_time": "2020-07-29T12:55:58.495099Z",
     "start_time": "2020-07-29T12:55:58.492079Z"
    }
   },
   "outputs": [
    {
     "name": "stdout",
     "output_type": "stream",
     "text": [
      "0 \n"
     ]
    }
   ],
   "source": [
    "print(token_apple.ent_type, token_apple.ent_type_)"
   ]
  },
  {
   "cell_type": "code",
   "execution_count": 88,
   "metadata": {
    "ExecuteTime": {
     "end_time": "2020-07-29T12:56:13.912975Z",
     "start_time": "2020-07-29T12:56:13.908986Z"
    }
   },
   "outputs": [
    {
     "name": "stdout",
     "output_type": "stream",
     "text": [
      "8566208034543834098 apple\n"
     ]
    }
   ],
   "source": [
    "print(token_apple.lemma, token_apple.lemma_)"
   ]
  },
  {
   "cell_type": "code",
   "execution_count": 89,
   "metadata": {
    "ExecuteTime": {
     "end_time": "2020-07-29T12:56:26.613038Z",
     "start_time": "2020-07-29T12:56:26.609042Z"
    }
   },
   "outputs": [
    {
     "name": "stdout",
     "output_type": "stream",
     "text": [
      "14374618037326464786 apples\n"
     ]
    }
   ],
   "source": [
    "print(token_apple.norm, token_apple.norm_)"
   ]
  },
  {
   "cell_type": "code",
   "execution_count": 90,
   "metadata": {
    "ExecuteTime": {
     "end_time": "2020-07-29T12:57:47.838627Z",
     "start_time": "2020-07-29T12:57:47.834638Z"
    }
   },
   "outputs": [
    {
     "name": "stdout",
     "output_type": "stream",
     "text": [
      "92 NOUN\n",
      "783433942507015291 NNS\n"
     ]
    }
   ],
   "source": [
    "print(token_apple.pos, token_apple.pos_) ## token的词性， 颗粒度粗\n",
    "print(token_apple.tag, token_apple.tag_) ## token的词性， 颗粒度细"
   ]
  },
  {
   "cell_type": "markdown",
   "metadata": {},
   "source": [
    "## DOC类\n",
    "* 对一个文本数据进行分词之后，Doc对象是token的序列，Span对象是Doc对象的一个切片："
   ]
  },
  {
   "cell_type": "code",
   "execution_count": 15,
   "metadata": {
    "ExecuteTime": {
     "end_time": "2020-07-29T12:37:06.574664Z",
     "start_time": "2020-07-29T12:37:06.033087Z"
    }
   },
   "outputs": [
    {
     "data": {
      "text/plain": [
       "I like apples"
      ]
     },
     "execution_count": 15,
     "metadata": {},
     "output_type": "execute_result"
    }
   ],
   "source": [
    "nlp = spacy.load('en_core_web_sm')\n",
    "doc = nlp(\"I like apples and oranges\")\n",
    "\n",
    "span = doc[0:3]  ## 前闭后开\n",
    "span"
   ]
  },
  {
   "cell_type": "markdown",
   "metadata": {},
   "source": [
    "* 获得文本的命名实体\n",
    "* doc.ents\n",
    "* 获得文本的名词块\n",
    "* doc.noun_chunks\n",
    "* 获得文本的句子\n",
    "* doc.sents\n",
    "* 查看doc的文本\n",
    "* doc.text"
   ]
  },
  {
   "cell_type": "code",
   "execution_count": 16,
   "metadata": {
    "ExecuteTime": {
     "end_time": "2020-07-29T12:37:06.579648Z",
     "start_time": "2020-07-29T12:37:06.575644Z"
    }
   },
   "outputs": [
    {
     "name": "stdout",
     "output_type": "stream",
     "text": [
      "()\n",
      "<generator object at 0x000001F96BB11E58>\n",
      "<generator object at 0x000001F903A98798>\n",
      "I like apples and oranges\n"
     ]
    }
   ],
   "source": [
    "print(doc.ents)\n",
    "print(doc.noun_chunks)\n",
    "print(doc.sents)\n",
    "print(doc.text)"
   ]
  },
  {
   "cell_type": "markdown",
   "metadata": {},
   "source": [
    "# Span 类"
   ]
  },
  {
   "cell_type": "markdown",
   "metadata": {},
   "source": [
    "### Span对象是Doc对象的一个切片，Span对象的属性：\n",
    "\n",
    "#### start：span的第一个token在doc中的索引\n",
    "#### end：span的最后一个token在doc中的索引\n",
    "#### text：span的文本\n",
    "#### orth、orth_：span的文本\n",
    "#### lemma_：span的lemma"
   ]
  },
  {
   "cell_type": "code",
   "execution_count": 17,
   "metadata": {
    "ExecuteTime": {
     "end_time": "2020-07-29T12:37:07.129180Z",
     "start_time": "2020-07-29T12:37:06.582615Z"
    }
   },
   "outputs": [
    {
     "name": "stdout",
     "output_type": "stream",
     "text": [
      "I <class 'spacy.tokens.span.Span'>\n",
      "love <class 'spacy.tokens.span.Span'>\n",
      "dogs <class 'spacy.tokens.span.Span'>\n",
      "and <class 'spacy.tokens.span.Span'>\n",
      "cats <class 'spacy.tokens.span.Span'>\n"
     ]
    }
   ],
   "source": [
    "nlp = spacy.load('en_core_web_sm')\n",
    "doc = nlp(\"I love dogs and cats\")\n",
    "\n",
    "for token in doc:\n",
    "    print(token.text, type(doc[0:3]))"
   ]
  },
  {
   "cell_type": "code",
   "execution_count": null,
   "metadata": {},
   "outputs": [],
   "source": []
  },
  {
   "cell_type": "markdown",
   "metadata": {},
   "source": [
    "### Matcher 类似于正则表达式，返回text或者sentence中指定格式的内容 "
   ]
  },
  {
   "cell_type": "code",
   "execution_count": 18,
   "metadata": {
    "ExecuteTime": {
     "end_time": "2020-07-29T12:37:07.664750Z",
     "start_time": "2020-07-29T12:37:07.130151Z"
    }
   },
   "outputs": [],
   "source": [
    "nlp = spacy.load(\"en_core_web_sm\")"
   ]
  },
  {
   "cell_type": "code",
   "execution_count": 19,
   "metadata": {
    "ExecuteTime": {
     "end_time": "2020-07-29T12:37:07.675714Z",
     "start_time": "2020-07-29T12:37:07.665718Z"
    }
   },
   "outputs": [],
   "source": [
    "doc = nlp(\"Hello, World!\")"
   ]
  },
  {
   "cell_type": "code",
   "execution_count": 20,
   "metadata": {
    "ExecuteTime": {
     "end_time": "2020-07-29T12:37:07.681693Z",
     "start_time": "2020-07-29T12:37:07.677686Z"
    }
   },
   "outputs": [
    {
     "data": {
      "text/plain": [
       "Hello, World!"
      ]
     },
     "execution_count": 20,
     "metadata": {},
     "output_type": "execute_result"
    }
   ],
   "source": [
    "doc"
   ]
  },
  {
   "cell_type": "code",
   "execution_count": 21,
   "metadata": {
    "ExecuteTime": {
     "end_time": "2020-07-29T12:37:07.697652Z",
     "start_time": "2020-07-29T12:37:07.682674Z"
    }
   },
   "outputs": [
    {
     "name": "stdout",
     "output_type": "stream",
     "text": [
      "Hello\n",
      ",\n",
      "World\n",
      "!\n"
     ]
    }
   ],
   "source": [
    "for token in doc:\n",
    "    print(token)"
   ]
  },
  {
   "cell_type": "code",
   "execution_count": 22,
   "metadata": {
    "ExecuteTime": {
     "end_time": "2020-07-29T12:37:07.705632Z",
     "start_time": "2020-07-29T12:37:07.698642Z"
    }
   },
   "outputs": [],
   "source": [
    "## OP代表可选的意思？？， \n",
    "## '！'：通过要求精确匹配0次来对模式进行求反。\n",
    "##'？'：允许模式匹配0或1次，从而使其成为可选模式。\n",
    "##'+'：要求模式匹配1次或多次。\n",
    "## '*'：允许模式零次或多次。\n",
    "pattern = [{\"LOWER\": \"hello\", 'OP': '?'}, {\"IS_PUNCT\": True, 'OP': '?'}, {\"LOWER\": \"world\"}]"
   ]
  },
  {
   "cell_type": "code",
   "execution_count": 23,
   "metadata": {
    "ExecuteTime": {
     "end_time": "2020-07-29T12:37:07.715602Z",
     "start_time": "2020-07-29T12:37:07.707606Z"
    }
   },
   "outputs": [],
   "source": [
    "from spacy.matcher import Matcher\n",
    "matcher = Matcher(nlp.vocab)\n",
    "matcher.add('HelloWorld', None, pattern)"
   ]
  },
  {
   "cell_type": "code",
   "execution_count": 24,
   "metadata": {
    "ExecuteTime": {
     "end_time": "2020-07-29T12:37:07.724569Z",
     "start_time": "2020-07-29T12:37:07.716581Z"
    }
   },
   "outputs": [
    {
     "data": {
      "text/plain": [
       "[(15578876784678163569, 0, 3),\n",
       " (15578876784678163569, 1, 3),\n",
       " (15578876784678163569, 2, 3)]"
      ]
     },
     "execution_count": 24,
     "metadata": {},
     "output_type": "execute_result"
    }
   ],
   "source": [
    "matches = matcher(doc)\n",
    "matches"
   ]
  },
  {
   "cell_type": "code",
   "execution_count": 25,
   "metadata": {
    "ExecuteTime": {
     "end_time": "2020-07-29T12:37:07.733536Z",
     "start_time": "2020-07-29T12:37:07.725557Z"
    }
   },
   "outputs": [
    {
     "name": "stdout",
     "output_type": "stream",
     "text": [
      "15578876784678163569 HelloWorld 0 3 Hello, World\n",
      "15578876784678163569 HelloWorld 1 3 , World\n",
      "15578876784678163569 HelloWorld 2 3 World\n"
     ]
    }
   ],
   "source": [
    "for match_id, start, end in matches:\n",
    "    string_id = nlp.vocab.strings[match_id]\n",
    "    span = doc[start: end]\n",
    "    print(match_id, string_id, start, end, span.text)"
   ]
  },
  {
   "cell_type": "markdown",
   "metadata": {},
   "source": [
    "## 正则表达式"
   ]
  },
  {
   "cell_type": "code",
   "execution_count": 26,
   "metadata": {
    "ExecuteTime": {
     "end_time": "2020-07-29T12:37:07.741515Z",
     "start_time": "2020-07-29T12:37:07.734534Z"
    }
   },
   "outputs": [],
   "source": [
    "text = \"1234my phone number is 1256. \\s Ohh its wrong! Correct one is 1234567890. call me!\""
   ]
  },
  {
   "cell_type": "code",
   "execution_count": 27,
   "metadata": {
    "ExecuteTime": {
     "end_time": "2020-07-29T12:37:07.750491Z",
     "start_time": "2020-07-29T12:37:07.742512Z"
    }
   },
   "outputs": [],
   "source": [
    "import re"
   ]
  },
  {
   "cell_type": "code",
   "execution_count": 28,
   "metadata": {
    "ExecuteTime": {
     "end_time": "2020-07-29T12:37:07.758469Z",
     "start_time": "2020-07-29T12:37:07.751488Z"
    }
   },
   "outputs": [],
   "source": [
    "pattern = re.compile(r'[a-zA-Z]{2}')"
   ]
  },
  {
   "cell_type": "code",
   "execution_count": 29,
   "metadata": {
    "ExecuteTime": {
     "end_time": "2020-07-29T12:37:07.766448Z",
     "start_time": "2020-07-29T12:37:07.759467Z"
    }
   },
   "outputs": [],
   "source": [
    "pattern1 = re.compile(r'^\\d{4}')"
   ]
  },
  {
   "cell_type": "code",
   "execution_count": 30,
   "metadata": {
    "ExecuteTime": {
     "end_time": "2020-07-29T12:37:07.776422Z",
     "start_time": "2020-07-29T12:37:07.767446Z"
    }
   },
   "outputs": [
    {
     "data": {
      "text/plain": [
       "['1234']"
      ]
     },
     "execution_count": 30,
     "metadata": {},
     "output_type": "execute_result"
    }
   ],
   "source": [
    "re.findall(pattern1, text)"
   ]
  },
  {
   "cell_type": "code",
   "execution_count": 31,
   "metadata": {
    "ExecuteTime": {
     "end_time": "2020-07-29T12:37:07.783404Z",
     "start_time": "2020-07-29T12:37:07.777420Z"
    }
   },
   "outputs": [],
   "source": [
    "pattern2 = re.compile(r'\\\\s')   ## compile里加r, re.compile(r'\\\\s') 和 re.compile('\\\\\\s')效果一样"
   ]
  },
  {
   "cell_type": "code",
   "execution_count": 32,
   "metadata": {
    "ExecuteTime": {
     "end_time": "2020-07-29T12:37:07.792383Z",
     "start_time": "2020-07-29T12:37:07.784401Z"
    }
   },
   "outputs": [
    {
     "data": {
      "text/plain": [
       "['\\\\s']"
      ]
     },
     "execution_count": 32,
     "metadata": {},
     "output_type": "execute_result"
    }
   ],
   "source": [
    "re.findall(pattern2, text)"
   ]
  },
  {
   "cell_type": "code",
   "execution_count": 33,
   "metadata": {
    "ExecuteTime": {
     "end_time": "2020-07-29T12:37:07.802353Z",
     "start_time": "2020-07-29T12:37:07.793377Z"
    }
   },
   "outputs": [
    {
     "data": {
      "text/plain": [
       "['free-videos', 'kgp-talkie']"
      ]
     },
     "execution_count": 33,
     "metadata": {},
     "output_type": "execute_result"
    }
   ],
   "source": [
    "text = \"you can get free-videos on kgp-talkie\"\n",
    "\n",
    "re.findall(r'[\\w]+-[\\w]+', text)"
   ]
  },
  {
   "cell_type": "markdown",
   "metadata": {},
   "source": [
    "## Spacy 正则表达式"
   ]
  },
  {
   "cell_type": "code",
   "execution_count": 34,
   "metadata": {
    "ExecuteTime": {
     "end_time": "2020-07-29T12:37:07.810330Z",
     "start_time": "2020-07-29T12:37:07.803349Z"
    }
   },
   "outputs": [],
   "source": [
    "text = \"Google announced a new Pixel at Google I/O. Google I/O is a great place to get all updates from Google\""
   ]
  },
  {
   "cell_type": "code",
   "execution_count": 35,
   "metadata": {
    "ExecuteTime": {
     "end_time": "2020-07-29T12:37:07.819307Z",
     "start_time": "2020-07-29T12:37:07.811327Z"
    }
   },
   "outputs": [
    {
     "data": {
      "text/plain": [
       "'Google announced a new Pixel at Google I/O. Google I/O is a great place to get all updates from Google'"
      ]
     },
     "execution_count": 35,
     "metadata": {},
     "output_type": "execute_result"
    }
   ],
   "source": [
    "text"
   ]
  },
  {
   "cell_type": "code",
   "execution_count": 36,
   "metadata": {
    "ExecuteTime": {
     "end_time": "2020-07-29T12:37:07.826289Z",
     "start_time": "2020-07-29T12:37:07.820304Z"
    }
   },
   "outputs": [],
   "source": [
    "pattern = [{'TEXT': 'Google'}, {'TEXT': 'I'}, {'TEXT': '/'}, {'TEXT': 'O', 'OP': '+'}]"
   ]
  },
  {
   "cell_type": "code",
   "execution_count": 37,
   "metadata": {
    "ExecuteTime": {
     "end_time": "2020-07-29T12:37:07.835265Z",
     "start_time": "2020-07-29T12:37:07.827287Z"
    }
   },
   "outputs": [],
   "source": [
    "def callback_method(matcher, doc, i, matches):\n",
    "    match_id, start, end = matches[i]\n",
    "    entity = doc[start:end]\n",
    "    print(entity.text)"
   ]
  },
  {
   "cell_type": "code",
   "execution_count": 38,
   "metadata": {
    "ExecuteTime": {
     "end_time": "2020-07-29T12:37:07.844269Z",
     "start_time": "2020-07-29T12:37:07.836263Z"
    }
   },
   "outputs": [],
   "source": [
    "matcher = Matcher(nlp.vocab)\n",
    "matcher.add('Google', callback_method, pattern)"
   ]
  },
  {
   "cell_type": "code",
   "execution_count": 39,
   "metadata": {
    "ExecuteTime": {
     "end_time": "2020-07-29T12:37:07.862219Z",
     "start_time": "2020-07-29T12:37:07.845237Z"
    }
   },
   "outputs": [],
   "source": [
    "doc = nlp(text)"
   ]
  },
  {
   "cell_type": "code",
   "execution_count": 40,
   "metadata": {
    "ExecuteTime": {
     "end_time": "2020-07-29T12:37:07.868177Z",
     "start_time": "2020-07-29T12:37:07.863190Z"
    }
   },
   "outputs": [
    {
     "name": "stdout",
     "output_type": "stream",
     "text": [
      "Google I/O\n"
     ]
    },
    {
     "data": {
      "text/plain": [
       "[(11578853341595296054, 10, 14)]"
      ]
     },
     "execution_count": 40,
     "metadata": {},
     "output_type": "execute_result"
    }
   ],
   "source": [
    "matcher(doc)"
   ]
  },
  {
   "cell_type": "code",
   "execution_count": null,
   "metadata": {},
   "outputs": [],
   "source": []
  }
 ],
 "metadata": {
  "kernelspec": {
   "display_name": "Python 3",
   "language": "python",
   "name": "python3"
  },
  "language_info": {
   "codemirror_mode": {
    "name": "ipython",
    "version": 3
   },
   "file_extension": ".py",
   "mimetype": "text/x-python",
   "name": "python",
   "nbconvert_exporter": "python",
   "pygments_lexer": "ipython3",
   "version": "3.6.5"
  }
 },
 "nbformat": 4,
 "nbformat_minor": 4
}
